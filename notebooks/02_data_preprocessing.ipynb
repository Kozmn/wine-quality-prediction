{
 "cells": [
  {
   "cell_type": "code",
   "execution_count": null,
   "id": "03f57793",
   "metadata": {},
   "outputs": [
    {
     "name": "stdout",
     "output_type": "stream",
     "text": [
      "Dataset columns 12\n",
      "Features columns 11\n"
     ]
    }
   ],
   "source": [
    "import pandas as pd\n",
    "import numpy as np\n",
    "from sklearn.preprocessing import StandardScaler\n",
    "from sklearn.model_selection import train_test_split\n",
    "\n",
    "dataset_white = pd.read_csv('../data/winequality-white.csv', sep=';')\n",
    "\n",
    "target = dataset_white['quality']\n",
    "features = dataset_white.drop('quality', axis=1)\n",
    "\n",
    "print(f\"Dataset columns: {len(dataset_white.columns)}\")\n",
    "print(f\"Features columns: {len(features.columns)}\")"
   ]
  },
  {
   "cell_type": "code",
   "execution_count": null,
   "id": "77d1996a",
   "metadata": {},
   "outputs": [
    {
     "name": "stdout",
     "output_type": "stream",
     "text": [
      "Original mean: 18.432687072460002\n",
      "Original std: 6.105775283639784 \n",
      "\n",
      "Scaled mean: -2.024481303950566e-15\n",
      "Scaled std: 1.0001276405646913\n",
      "target values count: quality\n",
      "3      20\n",
      "4     163\n",
      "5    1457\n",
      "6    2198\n",
      "7     880\n",
      "8     175\n",
      "9       5\n",
      "Name: count, dtype: int64\n",
      "ytrain values count: quality\n",
      "3      16\n",
      "4     130\n",
      "5    1166\n",
      "6    1758\n",
      "7     704\n",
      "8     140\n",
      "9       4\n",
      "Name: count, dtype: int64\n"
     ]
    }
   ],
   "source": [
    "# Split the dataset into training and testing sets\n",
    "X_train, X_test, y_train, y_test = train_test_split(features, target, test_size=0.2, random_state=42, stratify=target)\n",
    "\n",
    "# Standardize the features\n",
    "scaler = StandardScaler()\n",
    "scaler.fit(X_train)\n",
    "X_train_scaled = scaler.transform(X_train)\n",
    "X_test_scaled = scaler.transform(X_test)\n",
    "\n",
    "# Convert the scaled features back to DataFrame for easier handling\n",
    "X_train_scaled = pd.DataFrame(X_train_scaled, columns=X_train.columns)\n",
    "X_test_scaled = pd.DataFrame(X_test_scaled, columns=X_test.columns)\n",
    "\n",
    "\n",
    "# comparison of means and stds before and after scaling\n",
    "print(f\"Original mean: {features.mean().mean()}\")\n",
    "print(f\"Original std: {features.std().mean()} \\n\")\n",
    "\n",
    "print(f\"Scaled mean: {X_train_scaled.mean().mean()}\")\n",
    "print(f\"Scaled std: {X_train_scaled.std().mean()}\")\n",
    "\n",
    "# comparison of target values in the original dataset and the train/test splits \n",
    "print(f\"Original distribution: {target.value_counts().sort_index()}\")\n",
    "print(f\"Training set distribution: {y_train.value_counts().sort_index()}\")\n",
    "print(f\"Testing set distribution: {y_test.value_counts().sort_index()}\")\n",
    "\n"
   ]
  },
  {
   "cell_type": "markdown",
   "id": "db6ab1f3",
   "metadata": {},
   "source": []
  }
 ],
 "metadata": {
  "kernelspec": {
   "display_name": ".venv",
   "language": "python",
   "name": "python3"
  },
  "language_info": {
   "codemirror_mode": {
    "name": "ipython",
    "version": 3
   },
   "file_extension": ".py",
   "mimetype": "text/x-python",
   "name": "python",
   "nbconvert_exporter": "python",
   "pygments_lexer": "ipython3",
   "version": "3.11.9"
  }
 },
 "nbformat": 4,
 "nbformat_minor": 5
}
